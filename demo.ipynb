{
 "cells": [
  {
   "cell_type": "markdown",
   "metadata": {},
   "source": [
    "### This is a minimal example for sanitizing sentences. "
   ]
  },
  {
   "cell_type": "code",
   "execution_count": 1,
   "metadata": {},
   "outputs": [
    {
     "name": "stderr",
     "output_type": "stream",
     "text": [
      "/nobackup3/divyam/envs/preempt/lib/python3.11/site-packages/tqdm/auto.py:21: TqdmWarning: IProgress not found. Please update jupyter and ipywidgets. See https://ipywidgets.readthedocs.io/en/stable/user_install.html\n",
      "  from .autonotebook import tqdm as notebook_tqdm\n"
     ]
    }
   ],
   "source": [
    "from utils import *"
   ]
  },
  {
   "cell_type": "code",
   "execution_count": 2,
   "metadata": {},
   "outputs": [
    {
     "name": "stderr",
     "output_type": "stream",
     "text": [
      "Loading checkpoint shards: 100%|██████████| 6/6 [00:03<00:00,  1.87it/s]\n"
     ]
    }
   ],
   "source": [
    "# Load NER model.\n",
    "# We use a Universal NER model here: https://universal-ner.github.io/\n",
    "ner_model = NER(\"/nobackup3/divyam/models/uniner-7b-pii-v3\", device=\"cuda:1\")\n",
    "# ner_model = NER(\"/path/to/Meta-Llama-3-8B-Instruct/\", device=\"cuda:1\")\n",
    "\n",
    "# Load Sanitizer object\n",
    "sanitizer = Sanitizer(ner_model, key = \"EF4359D8D580AA4F7F036D6F04FC6A94\", tweak = \"D8E7920AFA330A73\")"
   ]
  },
  {
   "cell_type": "markdown",
   "metadata": {},
   "source": [
    "### Example for sanitizing names of people:"
   ]
  },
  {
   "cell_type": "code",
   "execution_count": 3,
   "metadata": {},
   "outputs": [
    {
     "name": "stderr",
     "output_type": "stream",
     "text": [
      "100%|██████████| 2/2 [00:00<00:00,  2.64it/s]"
     ]
    },
    {
     "name": "stdout",
     "output_type": "stream",
     "text": [
      "NER extraction:\n",
      "{'Name': [['Ben Parker', 'John Doe'], ['Adam']]}\n"
     ]
    },
    {
     "name": "stderr",
     "output_type": "stream",
     "text": [
      "\n"
     ]
    }
   ],
   "source": [
    "sentences = [\"Ben Parker and John Doe went to the bank.\", \"Who was late today? Adam.\"]\n",
    "extracted = ner_model.extract(sentences, entity_type='Name')\n",
    "print(\"NER extraction:\")\n",
    "print(extracted)"
   ]
  },
  {
   "cell_type": "code",
   "execution_count": 4,
   "metadata": {},
   "outputs": [
    {
     "name": "stderr",
     "output_type": "stream",
     "text": [
      "100%|██████████| 2/2 [00:00<00:00,  5.50it/s]\n"
     ]
    },
    {
     "name": "stdout",
     "output_type": "stream",
     "text": [
      "['Ben Parker and John Doe went to the bank.', 'Who was late today? Adam.']\n",
      "Sanitized sentences:\n",
      "['Mariusz Alonzo and Lio Flo went to the bank.', 'Who was late today? Elyes Reid.']\n"
     ]
    }
   ],
   "source": [
    "sanitized_sentences, _ = sanitizer.encrypt(sentences, entity='Name', epsilon=1)\n",
    "print(\"Sanitized sentences:\")\n",
    "print(sanitized_sentences)"
   ]
  },
  {
   "cell_type": "code",
   "execution_count": 5,
   "metadata": {},
   "outputs": [
    {
     "name": "stderr",
     "output_type": "stream",
     "text": [
      "100%|██████████| 2/2 [00:00<00:00,  4.08it/s]"
     ]
    },
    {
     "name": "stdout",
     "output_type": "stream",
     "text": [
      "Desanitized sentences:\n",
      "['Ben Parker and John Doe went to the bank.', 'Who was late today? Adam.']\n"
     ]
    },
    {
     "name": "stderr",
     "output_type": "stream",
     "text": [
      "\n"
     ]
    }
   ],
   "source": [
    "desanitized_sentences = sanitizer.decrypt(sanitized_sentences, entity='Name')\n",
    "print(\"Desanitized sentences:\")\n",
    "print(desanitized_sentences)"
   ]
  },
  {
   "cell_type": "markdown",
   "metadata": {},
   "source": [
    "### Example for sanitizing currency values with FPE:"
   ]
  },
  {
   "cell_type": "code",
   "execution_count": 3,
   "metadata": {},
   "outputs": [
    {
     "name": "stderr",
     "output_type": "stream",
     "text": [
      "100%|██████████| 2/2 [00:01<00:00,  1.63it/s]"
     ]
    },
    {
     "name": "stdout",
     "output_type": "stream",
     "text": [
      "NER extraction:\n",
      "{'Money': [['10,000', '5,550'], ['25']]}\n"
     ]
    },
    {
     "name": "stderr",
     "output_type": "stream",
     "text": [
      "\n"
     ]
    }
   ],
   "source": [
    "sentences = [\"Ben withdrew $10,000 from the bank. Adam got $5,550 in a loan.\", \"I won $25 in the lottery.\"]\n",
    "extracted = ner_model.extract(sentences, entity_type='Money')\n",
    "print(\"NER extraction:\")\n",
    "print(extracted)"
   ]
  },
  {
   "cell_type": "code",
   "execution_count": 4,
   "metadata": {},
   "outputs": [
    {
     "name": "stderr",
     "output_type": "stream",
     "text": [
      "100%|██████████| 2/2 [00:00<00:00,  2.93it/s]"
     ]
    },
    {
     "name": "stdout",
     "output_type": "stream",
     "text": [
      "['Ben withdrew $10,000 from the bank. Adam got $5,550 in a loan.', 'I won $25 in the lottery.']\n",
      "Sanitized sentences:\n",
      "['Ben withdrew $54829534,343 from the bank. Adam got $0400114,733 in a loan.', 'I won $70096546 in the lottery.']\n"
     ]
    },
    {
     "name": "stderr",
     "output_type": "stream",
     "text": [
      "\n"
     ]
    }
   ],
   "source": [
    "sanitized_sentences, _ = sanitizer.encrypt(sentences, entity='Money', epsilon=1)\n",
    "print(\"Sanitized sentences:\")\n",
    "print(sanitized_sentences)"
   ]
  },
  {
   "cell_type": "code",
   "execution_count": 5,
   "metadata": {},
   "outputs": [
    {
     "name": "stderr",
     "output_type": "stream",
     "text": [
      "100%|██████████| 2/2 [00:01<00:00,  1.73it/s]"
     ]
    },
    {
     "name": "stdout",
     "output_type": "stream",
     "text": [
      "Desanitized sentences:\n",
      "['Ben withdrew $10,000 from the bank. Adam got $5,550 in a loan.', 'I won $25 in the lottery.']\n"
     ]
    },
    {
     "name": "stderr",
     "output_type": "stream",
     "text": [
      "\n"
     ]
    }
   ],
   "source": [
    "desanitized_sentences = sanitizer.decrypt(sanitized_sentences, entity='Money')\n",
    "print(\"Desanitized sentences:\")\n",
    "print(desanitized_sentences)"
   ]
  },
  {
   "cell_type": "markdown",
   "metadata": {},
   "source": [
    "### Example for sanitizing currency values with m-LDP:"
   ]
  },
  {
   "cell_type": "code",
   "execution_count": 6,
   "metadata": {},
   "outputs": [
    {
     "name": "stderr",
     "output_type": "stream",
     "text": [
      "100%|██████████| 2/2 [00:00<00:00,  5.11it/s]"
     ]
    },
    {
     "name": "stdout",
     "output_type": "stream",
     "text": [
      "NER extraction:\n",
      "{'Money': [['1000', '555'], ['25']]}\n"
     ]
    },
    {
     "name": "stderr",
     "output_type": "stream",
     "text": [
      "\n"
     ]
    }
   ],
   "source": [
    "sentences = [\"Ben withdrew $1000 from the bank. Adam got $555 in a loan.\", \"I won $25 in the lottery.\"]\n",
    "extracted = ner_model.extract(sentences, entity_type='Money')\n",
    "print(\"NER extraction:\")\n",
    "print(extracted)"
   ]
  },
  {
   "cell_type": "code",
   "execution_count": 7,
   "metadata": {},
   "outputs": [
    {
     "name": "stderr",
     "output_type": "stream",
     "text": [
      "100%|██████████| 2/2 [00:00<00:00,  4.06it/s]"
     ]
    },
    {
     "name": "stdout",
     "output_type": "stream",
     "text": [
      "['Ben withdrew $1000 from the bank. Adam got $555 in a loan.', 'I won $25 in the lottery.']\n",
      "Sanitized sentences:\n",
      "['Ben withdrew $1090 from the bank. Adam got $496 in a loan.', 'I won $41 in the lottery.']\n"
     ]
    },
    {
     "name": "stderr",
     "output_type": "stream",
     "text": [
      "\n"
     ]
    }
   ],
   "source": [
    "sanitized_sentences, _ = sanitizer.encrypt(sentences, entity='Money', \n",
    "                                           epsilon=1, use_fpe=False, use_mdp=True)\n",
    "print(\"Sanitized sentences:\")\n",
    "print(sanitized_sentences)"
   ]
  },
  {
   "cell_type": "code",
   "execution_count": 8,
   "metadata": {},
   "outputs": [
    {
     "data": {
      "text/plain": [
       "[{'1090': '1000', '496': '555'}, {'41': '25'}]"
      ]
     },
     "execution_count": 8,
     "metadata": {},
     "output_type": "execute_result"
    }
   ],
   "source": [
    "sanitizer.entity_mapping"
   ]
  },
  {
   "cell_type": "code",
   "execution_count": 9,
   "metadata": {},
   "outputs": [
    {
     "name": "stderr",
     "output_type": "stream",
     "text": [
      "100%|██████████| 2/2 [00:00<00:00,  5.20it/s]"
     ]
    },
    {
     "name": "stdout",
     "output_type": "stream",
     "text": [
      "Desanitized sentences:\n",
      "['Ben withdrew $1000 from the bank. Adam got $555 in a loan.', 'I won $25 in the lottery.']\n"
     ]
    },
    {
     "name": "stderr",
     "output_type": "stream",
     "text": [
      "\n"
     ]
    }
   ],
   "source": [
    "desanitized_sentences = sanitizer.decrypt(sanitized_sentences, entity='Money', \n",
    "                                          use_fpe=False, use_mdp=True)\n",
    "print(\"Desanitized sentences:\")\n",
    "print(desanitized_sentences)"
   ]
  },
  {
   "cell_type": "markdown",
   "metadata": {},
   "source": [
    "### Example for sanitizing age values with m-LDP:"
   ]
  },
  {
   "cell_type": "code",
   "execution_count": 10,
   "metadata": {},
   "outputs": [
    {
     "name": "stderr",
     "output_type": "stream",
     "text": [
      "100%|██████████| 2/2 [00:00<00:00,  5.95it/s]"
     ]
    },
    {
     "name": "stdout",
     "output_type": "stream",
     "text": [
      "NER extraction:\n",
      "{'Age': [['15'], ['25']]}\n"
     ]
    },
    {
     "name": "stderr",
     "output_type": "stream",
     "text": [
      "\n"
     ]
    }
   ],
   "source": [
    "sentences = [\"Ben turned 15 years old today.\", \"I am 25 years old.\"]\n",
    "extracted = ner_model.extract(sentences, entity_type='Age')\n",
    "print(\"NER extraction:\")\n",
    "print(extracted)"
   ]
  },
  {
   "cell_type": "code",
   "execution_count": 12,
   "metadata": {},
   "outputs": [
    {
     "name": "stderr",
     "output_type": "stream",
     "text": [
      "100%|██████████| 2/2 [00:00<00:00,  6.08it/s]"
     ]
    },
    {
     "name": "stdout",
     "output_type": "stream",
     "text": [
      "['Ben turned 15 years old today.', 'I am 25 years old.']\n",
      "Sanitized sentences:\n",
      "['Ben turned 13 years old today.', 'I am 22 years old.']\n"
     ]
    },
    {
     "name": "stderr",
     "output_type": "stream",
     "text": [
      "\n"
     ]
    }
   ],
   "source": [
    "sanitized_sentences, _ = sanitizer.encrypt(sentences, entity='Age', epsilon=1, use_mdp=True, use_fpe=False)\n",
    "print(\"Sanitized sentences:\")\n",
    "print(sanitized_sentences)"
   ]
  },
  {
   "cell_type": "code",
   "execution_count": 13,
   "metadata": {},
   "outputs": [
    {
     "name": "stderr",
     "output_type": "stream",
     "text": [
      "100%|██████████| 2/2 [00:00<00:00,  6.41it/s]"
     ]
    },
    {
     "name": "stdout",
     "output_type": "stream",
     "text": [
      "Desanitized sentences:\n",
      "['Ben turned 15 years old today.', 'I am 25 years old.']\n"
     ]
    },
    {
     "name": "stderr",
     "output_type": "stream",
     "text": [
      "\n"
     ]
    }
   ],
   "source": [
    "desanitized_sentences = sanitizer.decrypt(sanitized_sentences, entity='Age')\n",
    "print(\"Desanitized sentences:\")\n",
    "print(desanitized_sentences)"
   ]
  }
 ],
 "metadata": {
  "kernelspec": {
   "display_name": "preempt",
   "language": "python",
   "name": "preempt"
  },
  "language_info": {
   "codemirror_mode": {
    "name": "ipython",
    "version": 3
   },
   "file_extension": ".py",
   "mimetype": "text/x-python",
   "name": "python",
   "nbconvert_exporter": "python",
   "pygments_lexer": "ipython3",
   "version": "3.11.4"
  }
 },
 "nbformat": 4,
 "nbformat_minor": 2
}
